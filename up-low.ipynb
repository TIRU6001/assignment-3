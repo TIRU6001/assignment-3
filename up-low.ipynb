{
 "cells": [
  {
   "cell_type": "code",
   "execution_count": 1,
   "id": "1def93a9",
   "metadata": {},
   "outputs": [
    {
     "name": "stdout",
     "output_type": "stream",
     "text": [
      "No. of Upper case characters : 2,No. of Lower case characters : 12\n"
     ]
    }
   ],
   "source": [
    "def up_low(s):      \n",
    "    u = 0\n",
    "    l = 0\n",
    "    for i in s:\n",
    "        if i.isupper():\n",
    "            u+=1\n",
    "        else :\n",
    "            l+=1\n",
    " \n",
    "        \n",
    "    print( \"No. of Upper case characters : %s,No. of Lower case characters : %s\" % (u,l))\n",
    "\n",
    "up_low(\"Aku.Thirupathi\")"
   ]
  },
  {
   "cell_type": "code",
   "execution_count": null,
   "id": "c136ec23",
   "metadata": {},
   "outputs": [],
   "source": []
  }
 ],
 "metadata": {
  "kernelspec": {
   "display_name": "Python 3 (ipykernel)",
   "language": "python",
   "name": "python3"
  },
  "language_info": {
   "codemirror_mode": {
    "name": "ipython",
    "version": 3
   },
   "file_extension": ".py",
   "mimetype": "text/x-python",
   "name": "python",
   "nbconvert_exporter": "python",
   "pygments_lexer": "ipython3",
   "version": "3.9.7"
  }
 },
 "nbformat": 4,
 "nbformat_minor": 5
}
